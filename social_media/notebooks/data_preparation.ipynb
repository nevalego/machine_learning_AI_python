{
 "cells": [
  {
   "cell_type": "code",
   "execution_count": 1,
   "metadata": {},
   "outputs": [],
   "source": [
    "import pandas as pd\n",
    "import os\n",
    "\n",
    "def load_data(filepath):\n",
    "    \"\"\"Carga el dataset desde un archivo CSV y lo devuelve como un DataFrame.\"\"\"\n",
    "    if not os.path.exists(filepath):\n",
    "        raise FileNotFoundError(f\"El archivo {filepath} no se encontró.\")\n",
    "    \n",
    "    return pd.read_csv(filepath)\n",
    "\n",
    "def clean_data(df):\n",
    "    \"\"\"Limpia el dataset eliminando valores nulos y duplicados.\"\"\"\n",
    "    df = df.drop_duplicates()\n",
    "    df = df.dropna()\n",
    "    return df\n",
    "\n",
    "def preprocess_text(df, column):\n",
    "    \"\"\"Preprocesa la columna de texto eliminando caracteres especiales y convirtiendo a minúsculas.\"\"\"\n",
    "    df[column] = df[column].str.lower().str.replace(r'[^a-zA-Z0-9\\s]', '', regex=True)\n",
    "    return df\n",
    "\n",
    "def save_clean_data(df, output_filepath):\n",
    "    \"\"\"Guarda el dataset limpio en un nuevo archivo CSV.\"\"\"\n",
    "    df.to_csv(output_filepath, index=False)\n",
    "    print(f\"Dataset limpio guardado en {output_filepath}\")"
   ]
  },
  {
   "cell_type": "code",
   "execution_count": 6,
   "metadata": {},
   "outputs": [
    {
     "name": "stdout",
     "output_type": "stream",
     "text": [
      "Dataset limpio guardado en ../data/cleaned_social_media_data.csv\n"
     ]
    }
   ],
   "source": [
    "if __name__ == \"__main__\":\n",
    "    input_filepath = \"../data/social_media_data.csv\"\n",
    "    output_filepath = \"../data/cleaned_social_media_data.csv\"\n",
    "    data = load_data(input_filepath)\n",
    "    data = clean_data(data)\n",
    "    data = preprocess_text(data, 'Post Content')  \n",
    "    save_clean_data(data, output_filepath)"
   ]
  }
 ],
 "metadata": {
  "kernelspec": {
   "display_name": "Python 3",
   "language": "python",
   "name": "python3"
  },
  "language_info": {
   "codemirror_mode": {
    "name": "ipython",
    "version": 3
   },
   "file_extension": ".py",
   "mimetype": "text/x-python",
   "name": "python",
   "nbconvert_exporter": "python",
   "pygments_lexer": "ipython3",
   "version": "3.7.9"
  }
 },
 "nbformat": 4,
 "nbformat_minor": 2
}

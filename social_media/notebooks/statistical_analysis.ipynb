{
 "cells": [
  {
   "cell_type": "code",
   "execution_count": 1,
   "metadata": {},
   "outputs": [],
   "source": [
    "import pandas as pd\n",
    "\n",
    "# Cargar el dataset limpio\n",
    "df = pd.read_csv(\"../data/cleaned_social_media_data.csv\")"
   ]
  },
  {
   "cell_type": "code",
   "execution_count": 2,
   "metadata": {},
   "outputs": [
    {
     "name": "stdout",
     "output_type": "stream",
     "text": [
      "Resumen Estadístico:\n",
      "        Number of Likes  Number of Shares  Number of Comments  \\\n",
      "count      2000.000000        2000.00000         2000.000000   \n",
      "mean        503.379000         248.48500          102.805000   \n",
      "std         283.210866         145.09499           58.032886   \n",
      "min           1.000000           0.00000            0.000000   \n",
      "25%         267.000000         121.00000           52.000000   \n",
      "50%         505.000000         248.50000          104.500000   \n",
      "75%         740.000000         375.00000          153.250000   \n",
      "max        1000.000000         500.00000          200.000000   \n",
      "\n",
      "       User Follower Count  \n",
      "count          2000.000000  \n",
      "mean           5005.777000  \n",
      "std            2913.865254  \n",
      "min               3.000000  \n",
      "25%            2383.250000  \n",
      "50%            5048.500000  \n",
      "75%            7556.500000  \n",
      "max            9999.000000  \n"
     ]
    }
   ],
   "source": [
    "# Resumen estadístico de las métricas numéricas\n",
    "print(\"Resumen Estadístico:\\n\", df.describe())"
   ]
  },
  {
   "cell_type": "code",
   "execution_count": 3,
   "metadata": {},
   "outputs": [
    {
     "name": "stdout",
     "output_type": "stream",
     "text": [
      "\n",
      "Distribución de Sentimientos:\n",
      " Neutral     682\n",
      "Negative    675\n",
      "Positive    643\n",
      "Name: Sentiment Label, dtype: int64\n"
     ]
    }
   ],
   "source": [
    "# Distribución de las etiquetas de sentimiento\n",
    "print(\"\\nDistribución de Sentimientos:\\n\", df[\"Sentiment Label\"].value_counts())"
   ]
  },
  {
   "cell_type": "code",
   "execution_count": 5,
   "metadata": {},
   "outputs": [
    {
     "name": "stdout",
     "output_type": "stream",
     "text": [
      "\n",
      "Matriz de Correlación:\n",
      "                      Number of Likes  Number of Shares  Number of Comments  \\\n",
      "Number of Likes             1.000000         -0.014980           -0.025678   \n",
      "Number of Shares           -0.014980          1.000000            0.015882   \n",
      "Number of Comments         -0.025678          0.015882            1.000000   \n",
      "User Follower Count        -0.042894         -0.014121           -0.004499   \n",
      "\n",
      "                     User Follower Count  \n",
      "Number of Likes                -0.042894  \n",
      "Number of Shares               -0.014121  \n",
      "Number of Comments             -0.004499  \n",
      "User Follower Count             1.000000  \n"
     ]
    }
   ],
   "source": [
    "# Correlación entre métricas numéricas\n",
    "correlation_matrix = df.select_dtypes(include=['number']).corr()\n",
    "print(\"\\nMatriz de Correlación:\\n\", correlation_matrix)"
   ]
  },
  {
   "cell_type": "code",
   "execution_count": 7,
   "metadata": {},
   "outputs": [],
   "source": [
    "# Guardar el análisis en un archivo\n",
    "correlation_matrix.to_csv(\"../data/correlation_matrix.csv\")"
   ]
  }
 ],
 "metadata": {
  "kernelspec": {
   "display_name": "Python 3",
   "language": "python",
   "name": "python3"
  },
  "language_info": {
   "codemirror_mode": {
    "name": "ipython",
    "version": 3
   },
   "file_extension": ".py",
   "mimetype": "text/x-python",
   "name": "python",
   "nbconvert_exporter": "python",
   "pygments_lexer": "ipython3",
   "version": "3.7.9"
  }
 },
 "nbformat": 4,
 "nbformat_minor": 2
}

{
 "cells": [
  {
   "cell_type": "code",
   "execution_count": 1,
   "metadata": {},
   "outputs": [],
   "source": [
    "import pandas as pd"
   ]
  },
  {
   "cell_type": "code",
   "execution_count": 2,
   "metadata": {},
   "outputs": [
    {
     "name": "stdout",
     "output_type": "stream",
     "text": [
      "Carpeta actual: C:\\Users\\nerea\\Documents\\Repositorio\\python\n",
      "Archivos y carpetas: ['.git', 'currency_info.json', 'food_crisis', 'random_colors', 'social_media']\n"
     ]
    }
   ],
   "source": [
    "import os\n",
    "print(\"Carpeta actual:\", os.getcwd())\n",
    "print(\"Archivos y carpetas:\", os.listdir())"
   ]
  },
  {
   "cell_type": "code",
   "execution_count": 3,
   "metadata": {},
   "outputs": [],
   "source": [
    "dtype_dict = {\n",
    "    \"countryiso3\": \"str\",\n",
    "    \"date\": \"str\",  \n",
    "    \"admin1\": \"str\",\n",
    "    \"admin2\": \"str\",\n",
    "    \"market\": \"str\",\n",
    "    \"market_id\": \"str\", \n",
    "    \"latitude\": \"float64\",\n",
    "    \"longitude\": \"float64\",\n",
    "    \"category\": \"str\",\n",
    "    \"commodity\": \"str\",\n",
    "    \"commodity_id\": \"str\", \n",
    "    \"unit\": \"str\",\n",
    "    \"priceflag\": \"str\",\n",
    "    \"pricetype\": \"str\",\n",
    "    \"currency\": \"str\",\n",
    "    \"price\": \"float64\",\n",
    "    \"usdprice\": \"float64\"\n",
    "}\n",
    "\n",
    "# Cargar el dataset\n",
    "df = pd.read_csv(\"food_crisis/data/wfp_food_prices_global.csv\", dtype=dtype_dict, skiprows=1) "
   ]
  },
  {
   "cell_type": "code",
   "execution_count": 4,
   "metadata": {},
   "outputs": [
    {
     "name": "stdout",
     "output_type": "stream",
     "text": [
      "\\Variables en el conjunto de datos: \n",
      "Index(['#country+code', '#date', '#adm1+name', '#adm2+name',\n",
      "       '#loc+market+name', '#loc+market+code', '#geo+lat', '#geo+lon',\n",
      "       '#item+type', '#item+name', '#item+code', '#item+unit',\n",
      "       '#item+price+flag', '#item+price+type', '#currency+code', '#value',\n",
      "       '#value+usd'],\n",
      "      dtype='object')\n"
     ]
    }
   ],
   "source": [
    "print(\"\\Variables en el conjunto de datos: \")\n",
    "print(df.columns)"
   ]
  },
  {
   "cell_type": "markdown",
   "metadata": {},
   "source": [
    "### Renombramiento de variables\n",
    "A continuación, se van a renombrar las columnas para mayor claridad."
   ]
  },
  {
   "cell_type": "code",
   "execution_count": 5,
   "metadata": {},
   "outputs": [],
   "source": [
    "# Renombramiendo de columnas para mayor claridad\n",
    "df.rename(columns={\n",
    "    '#country+code': 'countryiso3',\n",
    "    '#date': 'date',\n",
    "    '#adm1+name': 'admin1',\n",
    "    '#adm2+name': 'admin2',\n",
    "    '#loc+market+name': 'market',\n",
    "    '#loc+market+code': 'market_id',\n",
    "    '#geo+lat': 'latitude',\n",
    "    '#geo+lon': 'longitude',\n",
    "    '#item+type': 'category',\n",
    "    '#item+name': 'commodity',\n",
    "    '#item+code': 'commodity_id',\n",
    "    '#item+unit': 'unit',\n",
    "    '#item+price+flag': 'priceflag',\n",
    "    '#item+price+type': 'pricetype',\n",
    "    '#currency+code': 'currency',\n",
    "    '#value': 'price',\n",
    "    '#value+usd': 'usdprice'\n",
    "}, inplace=True)"
   ]
  },
  {
   "cell_type": "code",
   "execution_count": 6,
   "metadata": {},
   "outputs": [
    {
     "name": "stdout",
     "output_type": "stream",
     "text": [
      "\\Variables en el conjunto de datos: \n",
      "Index(['countryiso3', 'date', 'admin1', 'admin2', 'market', 'market_id',\n",
      "       'latitude', 'longitude', 'category', 'commodity', 'commodity_id',\n",
      "       'unit', 'priceflag', 'pricetype', 'currency', 'price', 'usdprice'],\n",
      "      dtype='object')\n"
     ]
    }
   ],
   "source": [
    "print(\"\\Variables en el conjunto de datos: \")\n",
    "print(df.columns)"
   ]
  },
  {
   "cell_type": "markdown",
   "metadata": {},
   "source": [
    "El nuevo listado se corresponde con: \n",
    "\n",
    "* countryiso3: código del país en formato ISO de 3 letras\n",
    "* date: fecha de registro de los datos\n",
    "* admin1: nombre de la primera división administrativa de cada país\n",
    "* admin2: nombre de la segunda división administrativa de cada país\n",
    "* market: mercado en el que se registra ese precio\n",
    "* market_id: identificador único para el mercado\n",
    "* latitude: coordenada latitud del mercado\n",
    "* longitude: coordenada longitud del mercado\n",
    "* category: categoria del producto\n",
    "* commodity: producto \n",
    "* commodity_id: identificador del producto\n",
    "* unit: unidad de medida para el precio\n",
    "* priceflag: tipo de precio\n",
    "* pricetype: distribución y venta de tipo al por menor (retail) o al por mayor (wholesale) \n",
    "* currency: moneda en la que se registra el precio (ISO 4217)\n",
    "* price: precio local en la moneda local\n",
    "* usdprice: precio local equivalente en USD"
   ]
  },
  {
   "cell_type": "markdown",
   "metadata": {},
   "source": [
    "### Pycountry para cambiar códigos ISO de países por sus nombre\n",
    "Ahora se va a utilizar la librería pycountry para acceder al listado de países con sus códigos ISO y nombres en inglés para poder importarlo desde un json y usarlo en lugar de los códigos en formato ISO 3"
   ]
  },
  {
   "cell_type": "code",
   "execution_count": 7,
   "metadata": {},
   "outputs": [],
   "source": [
    "from food_crisis.utils.country_mapping import country_map\n",
    "\n",
    "df['countryiso3'] = df['countryiso3'].replace(country_map)\n"
   ]
  },
  {
   "cell_type": "markdown",
   "metadata": {},
   "source": [
    "### Forex-python para cambiar códigos ISO de monedas por su nombre y símbolo"
   ]
  },
  {
   "cell_type": "code",
   "execution_count": 9,
   "metadata": {},
   "outputs": [
    {
     "name": "stdout",
     "output_type": "stream",
     "text": [
      "{'AFN': 'Afghan afghani (Afs)', 'AOA': 'Angolan kwanza (Kz)', 'ARS': 'Argentine peso ($)', 'AMD': 'Armenian dram (AMD)', 'BIF': 'Burundi franc (FBu)', 'XOF': 'West African CFA franc (CFA)', 'BDT': 'Bangladeshi taka (৳)', 'BYR': 'Belarusian ruble (Br)', 'BOB': 'Bolivian boliviano (Bs.)', 'BTN': 'Bhutanese ngultrum (Nu.)', 'XAF': 'Central African CFA franc (CFA)', 'CNY': 'Chinese/Yuan renminbi (¥)', 'CDF': 'Congolese franc (F)', 'COP': 'Colombian peso (Col$)', 'CVE': 'Cape Verdean escudo (Esc)', 'DJF': 'Djiboutian franc (Fdj)', 'DOP': 'Dominican peso (RD$)', 'DZD': 'Algerian dinar (د.ج)', 'USD': 'United States dollar ($)', 'EGP': 'Egyptian pound (£)', 'ERN': 'Eritrean nakfa (Nfa)', 'ETB': 'Ethiopian birr (Br)', 'FJD': 'Fijian dollar (FJ$)', 'GEL': 'Georgian lari (GEL)', 'GHS': 'Ghanaian cedi (GH₵)', 'GNF': 'Guinean franc (FG)', 'GMD': 'Gambian dalasi (D)', 'GTQ': 'Guatemalan quetzal (Q)', 'HNL': 'Honduran lempira (L)', 'HTG': 'Haitian gourde (G)', 'IDR': 'Indonesian rupiah (Rp)', 'INR': 'Indian rupee (₹)', 'IRR': 'Iranian rial (IRR)', 'IQD': 'Iraqi dinar (د.ع)', 'JOD': 'Jordanian dinar (JOD)', 'KZT': 'Kazakhstani tenge (T)', 'KES': 'Kenyan shilling (KSh)', 'KGS': 'Kyrgyzstani som (сом)', 'KHR': 'Cambodian riel (៛)', 'LAK': 'Lao kip (KN)', 'LBP': 'Lebanese lira (£)', 'LRD': 'Liberian dollar (L$)', 'LYD': 'Libyan dinar (LD)', 'LKR': 'Sri Lankan rupee (Rs)', 'LSL': 'Lesotho loti (M)', 'MDL': 'Moldovan leu (MDL)', 'MGA': 'Malagasy ariary (FMG)', 'MXN': 'Mexican peso ($)', 'MMK': 'Myanma kyat (K)', 'MNT': 'Mongolian tugrik (₮)', 'MZN': 'Mozambican metical (MT)', 'MRU': 'None (None)', 'MWK': 'Malawian kwacha (MK)', 'NAD': 'Namibian dollar (N$)', 'NGN': 'Nigerian naira (₦)', 'NPR': 'Nepalese rupee (NRs)', 'PKR': 'Pakistani rupee (Rs.)', 'PAB': 'Panamanian balboa (B./)', 'PEN': 'Peruvian nuevo sol (S/.)', 'PHP': 'Philippine peso (₱)', 'PYG': 'Paraguayan guarani (₲)', 'ILS': 'Israeli new sheqel (₪)', 'RUB': 'Russian ruble (₽)', 'RWF': 'Rwandan franc (FRw)', 'SDG': 'Sudanese pound (SDG)', 'SLL': 'Sierra Leonean leone (Le)', 'SLS': 'None (None)', 'SOS': 'Somali shilling (Sh.)', 'SSP': 'None (None)', 'SZL': 'Swazi lilangeni (E)', 'SYP': 'Syrian pound (LS)', 'THB': 'Thai baht (฿)', 'TJS': 'Tajikistani somoni (TJS)', 'TRY': 'Turkish new lira (TRY)', 'TZS': 'Tanzanian shilling (TZS)', 'UGX': 'Ugandan shilling (USh)', 'UAH': 'Ukrainian hryvnia (UAH)', 'VND': 'Vietnamese dong (₫)', 'YER': 'Yemeni rial (YER)', 'ZAR': 'South African rand (R)', 'ZMW': 'Zambian kwacha (ZK)', 'ZWL': 'None (None)'}\n"
     ]
    }
   ],
   "source": [
    "from food_crisis.utils.currency_mapping import map_currency\n",
    "\n",
    "currency_ISO = df['currency'].unique()\n",
    "# print(currency_ISO)\n",
    "\n",
    "currency_mapped = map_currency(currency_ISO)\n",
    "print((currency_mapped))\n",
    "\n",
    "df['currency'] = df['currency'].replace(currency_mapped)"
   ]
  },
  {
   "cell_type": "markdown",
   "metadata": {},
   "source": [
    "## Limpieza ETL de datos\n",
    "\n",
    "En este paso se eliminan los valores nulos y duplicados, se aplica la normalización de nombres a las columnas, y se convierten los tipos de datos. También se filtran valores inconsistentes como precios negativos, y se les da un nombre más claro a las columnas.\n",
    "Finalmente, se guardan los datos limpios en un nuevo archivo CSV."
   ]
  },
  {
   "cell_type": "code",
   "execution_count": 10,
   "metadata": {},
   "outputs": [
    {
     "name": "stderr",
     "output_type": "stream",
     "text": [
      "C:\\Users\\nerea\\AppData\\Roaming\\Python\\Python37\\site-packages\\ipykernel_launcher.py:5: FutureWarning: The default value of regex will change from True to False in a future version. In addition, single character regular expressions will *not* be treated as literal strings when regex=True.\n",
      "  \"\"\"\n"
     ]
    }
   ],
   "source": [
    "# Eliminar valores nulos\n",
    "df.dropna(inplace=True) \n",
    "\n",
    "# Normalización de nombre de columnas \n",
    "df.columns = df.columns.str.lower().str.replace(\" \", \"_\").str.replace(\"(\", \"\").str.replace(\")\", \"\")\n",
    "\n",
    "# Conversión de tipos  de datos\n",
    "df['date'] = pd.to_datetime(df['date'])\n",
    "df['price'] = pd.to_numeric(df['price'], errors='coerce')\n",
    "df['usdprice'] = pd.to_numeric(df['usdprice'], errors='coerce')\n",
    "df['latitude'] = pd.to_numeric(df['latitude'], errors='coerce')\n",
    "df['longitude'] = pd.to_numeric(df['longitude'], errors='coerce')\n",
    "\n"
   ]
  },
  {
   "cell_type": "markdown",
   "metadata": {},
   "source": [
    "### Creación de variables nuevas útiles (Feature Engineering)\n",
    "\n",
    "Se pueden derivar información relevante como el mes y el año a partir de \"date\", y la región codificada a partir de admin1/admin2."
   ]
  },
  {
   "cell_type": "code",
   "execution_count": 11,
   "metadata": {},
   "outputs": [],
   "source": [
    "# Extrae el año, mes, día y día de la semana de la fecha \n",
    "df['year'] = df['date'].dt.year\n",
    "df['month'] = df['date'].dt.month\n",
    "df['day'] = df['date'].dt.day\n",
    "df['weekday'] = df['date'].dt.weekday\n",
    "\n",
    "df['region'] = df['admin1'] + ' - ' + df['admin2']"
   ]
  },
  {
   "cell_type": "code",
   "execution_count": 12,
   "metadata": {},
   "outputs": [],
   "source": [
    "# Eliminación de duplicados\n",
    "df.drop_duplicates(inplace=True)\n",
    "\n",
    "# Filtrado de valores inconsistentes \n",
    "df = df[df['price'] > 0]\n",
    "df = df[df['usdprice'] > 0]"
   ]
  },
  {
   "cell_type": "code",
   "execution_count": 13,
   "metadata": {},
   "outputs": [],
   "source": [
    "# Obtiene una muestra para reducir tiempos \n",
    "reduced_df = df.sample(frac=0.01, random_state=42)"
   ]
  },
  {
   "cell_type": "code",
   "execution_count": 14,
   "metadata": {},
   "outputs": [
    {
     "name": "stdout",
     "output_type": "stream",
     "text": [
      "<class 'pandas.core.frame.DataFrame'>\n",
      "Int64Index: 8266 entries, 115412 to 301164\n",
      "Data columns (total 22 columns):\n",
      " #   Column        Non-Null Count  Dtype         \n",
      "---  ------        --------------  -----         \n",
      " 0   countryiso3   8266 non-null   object        \n",
      " 1   date          8266 non-null   datetime64[ns]\n",
      " 2   admin1        8266 non-null   object        \n",
      " 3   admin2        8266 non-null   object        \n",
      " 4   market        8266 non-null   object        \n",
      " 5   market_id     8266 non-null   int64         \n",
      " 6   latitude      8266 non-null   float64       \n",
      " 7   longitude     8266 non-null   float64       \n",
      " 8   category      8266 non-null   object        \n",
      " 9   commodity     8266 non-null   object        \n",
      " 10  commodity_id  8266 non-null   int64         \n",
      " 11  unit          8266 non-null   object        \n",
      " 12  priceflag     8266 non-null   object        \n",
      " 13  pricetype     8266 non-null   object        \n",
      " 14  currency      8266 non-null   object        \n",
      " 15  price         8266 non-null   float64       \n",
      " 16  usdprice      8266 non-null   float64       \n",
      " 17  year          8266 non-null   int64         \n",
      " 18  month         8266 non-null   int64         \n",
      " 19  day           8266 non-null   int64         \n",
      " 20  weekday       8266 non-null   int64         \n",
      " 21  region        8266 non-null   object        \n",
      "dtypes: datetime64[ns](1), float64(4), int64(6), object(11)\n",
      "memory usage: 1.5+ MB\n"
     ]
    }
   ],
   "source": [
    "reduced_df.info()"
   ]
  },
  {
   "cell_type": "code",
   "execution_count": 15,
   "metadata": {},
   "outputs": [],
   "source": [
    "# Guardado de datos limmpios\n",
    "reduced_df.to_csv(\"food_crisis/data/clean_food_prices.csv\", index=False)"
   ]
  }
 ],
 "metadata": {
  "kernelspec": {
   "display_name": "Python Kernel nve",
   "language": "python",
   "name": "nve_kernel"
  },
  "language_info": {
   "codemirror_mode": {
    "name": "ipython",
    "version": 3
   },
   "file_extension": ".py",
   "mimetype": "text/x-python",
   "name": "python",
   "nbconvert_exporter": "python",
   "pygments_lexer": "ipython3",
   "version": "3.7.9"
  }
 },
 "nbformat": 4,
 "nbformat_minor": 2
}
